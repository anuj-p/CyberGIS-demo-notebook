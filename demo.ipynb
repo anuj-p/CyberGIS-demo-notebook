{
 "cells": [
  {
   "cell_type": "code",
   "execution_count": null,
   "id": "a46773f4",
   "metadata": {},
   "outputs": [],
   "source": [
    "import ipyparallel\n",
    "client = ipyparallel.Client(profile=\"slurm\")"
   ]
  },
  {
   "cell_type": "code",
   "execution_count": null,
   "id": "157c9bbe",
   "metadata": {},
   "outputs": [],
   "source": [
    "%%px --noblock\n",
    "\n",
    "from mpi4py import MPI\n",
    "from os import environ\n",
    "from sys import stdout\n",
    "\n",
    "comm = MPI.COMM_WORLD\n",
    "size = comm.Get_size()\n",
    "rank = comm.Get_rank()\n",
    "name = MPI.Get_processor_name()\n",
    "head = environ[\"SLURM_SUBMIT_HOST\"]\n",
    "\n",
    "print(f\"Hello {head}! I am process {rank} of {size} on {name}!\\n\")"
   ]
  },
  {
   "cell_type": "code",
   "execution_count": null,
   "id": "ae05f493",
   "metadata": {},
   "outputs": [],
   "source": [
    "%pxresult"
   ]
  },
  {
   "cell_type": "code",
   "execution_count": null,
   "id": "8a1ca4f0",
   "metadata": {},
   "outputs": [],
   "source": [
    "import numpy as np\n",
    "\n",
    "X = np.arange(1, 10).reshape((3, 3))\n",
    "print((X + 10)**2)"
   ]
  }
 ],
 "metadata": {
  "kernelspec": {
   "display_name": "Python 3 (ipykernel)",
   "language": "python",
   "name": "python3"
  },
  "language_info": {
   "codemirror_mode": {
    "name": "ipython",
    "version": 3
   },
   "file_extension": ".py",
   "mimetype": "text/x-python",
   "name": "python",
   "nbconvert_exporter": "python",
   "pygments_lexer": "ipython3",
   "version": "3.9.18"
  }
 },
 "nbformat": 4,
 "nbformat_minor": 5
}
