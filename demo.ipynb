{
 "cells": [
  {
   "cell_type": "code",
   "execution_count": null,
   "id": "3b5d32f1-643f-45d1-be20-b3e788b8e6da",
   "metadata": {},
   "outputs": [],
   "source": [
    "import ipyparallel\n",
    "client = ipyparallel.Client(profile=\"slurm\")"
   ]
  },
  {
   "cell_type": "code",
   "execution_count": null,
   "id": "7464235e-62e3-4c77-8f39-85533f69fc30",
   "metadata": {},
   "outputs": [],
   "source": []
  },
  {
   "cell_type": "code",
   "execution_count": null,
   "id": "24b7867c-67e1-4ee6-89ba-9e81f657c4cf",
   "metadata": {},
   "outputs": [],
   "source": [
    "import numpy as np\n",
    "A = np.arange(1, 10).reshape(3, 3)\n",
    "print((10 + A)**2)"
   ]
  },
  {
   "cell_type": "code",
   "execution_count": null,
   "id": "3debe0e7-08c7-4083-ae46-0dbc79d71a2e",
   "metadata": {},
   "outputs": [],
   "source": []
  },
  {
   "cell_type": "code",
   "execution_count": null,
   "id": "fb0e799d-2040-4ee2-9efb-cb4575135358",
   "metadata": {},
   "outputs": [],
   "source": [
    "%%px --noblock\n",
    "from os import environ\n",
    "from sys import stdout\n",
    "\n",
    "comm = MPI.COMM_WORLD\n",
    "size = comm.Get_size()\n",
    "rank = comm.Get_rank()\n",
    "name = MPI.Get_processor_name()\n",
    "head = environ[\"SLURM_SUBMIT_HOST\"]\n",
    "\n",
    "print(f\"Hello {head}! I am process {rank} of {size} on {name}!\\n\")"
   ]
  },
  {
   "cell_type": "code",
   "execution_count": null,
   "id": "bb674fdc-a024-4710-8683-af0ca5a7f492",
   "metadata": {},
   "outputs": [],
   "source": [
    "%pxresult"
   ]
  },
  {
   "cell_type": "code",
   "execution_count": null,
   "id": "e30a0132-3d6b-418f-9bd9-fa65a1045d45",
   "metadata": {},
   "outputs": [],
   "source": []
  },
  {
   "cell_type": "code",
   "execution_count": null,
   "id": "8a18fb2b-fc39-404a-befe-a963bc6ebc6d",
   "metadata": {},
   "outputs": [],
   "source": [
    "%%px\n",
    "from mpi4py import MPI\n",
    "import random\n",
    "import math"
   ]
  },
  {
   "cell_type": "code",
   "execution_count": null,
   "id": "c4b532ff-e77c-4384-9a7a-622f3c57f1cc",
   "metadata": {},
   "outputs": [],
   "source": [
    "%%px\n",
    "def work(trials):\n",
    "    count = 0.0\n",
    "    for i in range(trials):\n",
    "        x = random.random()\n",
    "        y = random.random()\n",
    "        if x ** 2 + y ** 2 < 1.0:\n",
    "            count += 1.0\n",
    "    return count"
   ]
  },
  {
   "cell_type": "code",
   "execution_count": null,
   "id": "68537cd6-32ec-4d3a-adbb-c68c19201a48",
   "metadata": {},
   "outputs": [],
   "source": [
    "%%px\n",
    "def compute_pi(trials):\n",
    "    mpi_comm = MPI.COMM_WORLD\n",
    "    mpi_size = mpi_comm.size\n",
    "    mpi_rank = mpi_comm.rank\n",
    "    mpi_root = mpi_rank == 0\n",
    "    \n",
    "    random.seed(192837465 + mpi_rank)\n",
    "    \n",
    "    count = work(trials)\n",
    "    count = mpi_comm.gather(count, root=0)\n",
    "    if mpi_root:\n",
    "        total_count = sum(count)\n",
    "        total_trials = mpi_size * trials\n",
    "        estimated_pi = 4.0 * total_count / total_trials\n",
    "        print(\"Total Count:   \", total_count)\n",
    "        print(\"Total Trials:  \", total_trials)\n",
    "        print(\"Estimate of pi:\", estimated_pi, math.pi, abs(estimated_pi - math.pi)) "
   ]
  },
  {
   "cell_type": "code",
   "execution_count": null,
   "id": "e8b38a56-0f57-4f82-ac2d-feaa81a3dc2d",
   "metadata": {},
   "outputs": [],
   "source": [
    "%%px --noblock\n",
    "compute_pi(100000000)"
   ]
  },
  {
   "cell_type": "code",
   "execution_count": null,
   "id": "8c9067fe-b20e-49ae-8298-8eb498c1275f",
   "metadata": {},
   "outputs": [],
   "source": [
    "%pxresult"
   ]
  },
  {
   "cell_type": "code",
   "execution_count": null,
   "id": "9e06c7a1-ea76-4eb8-af15-7673205b5ba4",
   "metadata": {},
   "outputs": [],
   "source": []
  },
  {
   "cell_type": "code",
   "execution_count": null,
   "id": "79723e52-f115-4408-94ca-0a2f5db8a110",
   "metadata": {},
   "outputs": [],
   "source": [
    "import numpy as np\n",
    "B = np.arange(16, 0, -1).reshape(4, 4)\n",
    "print((-10 + B)**3)"
   ]
  }
 ],
 "metadata": {
  "kernelspec": {
   "display_name": "Python 3 (ipykernel)",
   "language": "python",
   "name": "python3"
  },
  "language_info": {
   "codemirror_mode": {
    "name": "ipython",
    "version": 3
   },
   "file_extension": ".py",
   "mimetype": "text/x-python",
   "name": "python",
   "nbconvert_exporter": "python",
   "pygments_lexer": "ipython3",
   "version": "3.8.10"
  }
 },
 "nbformat": 4,
 "nbformat_minor": 5
}
